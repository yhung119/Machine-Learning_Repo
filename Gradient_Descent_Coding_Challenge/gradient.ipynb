{
 "cells": [
  {
   "cell_type": "code",
   "execution_count": 5,
   "metadata": {
    "collapsed": false
   },
   "outputs": [
    {
     "name": "stderr",
     "output_type": "stream",
     "text": [
      "//anaconda/lib/python2.7/site-packages/matplotlib/__init__.py:1405: UserWarning: \n",
      "This call to matplotlib.use() has no effect because the backend has already\n",
      "been chosen; matplotlib.use() must be called *before* pylab, matplotlib.pyplot,\n",
      "or matplotlib.backends is imported for the first time.\n",
      "\n",
      "  warnings.warn(_use_error_msg)\n"
     ]
    }
   ],
   "source": [
    "%matplotlib inline\n",
    "import matplotlib\n",
    "matplotlib.use('agg')\n",
    "import matplotlib.pyplot as plt\n",
    "import numpy as np\n",
    "import pandas as pd"
   ]
  },
  {
   "cell_type": "markdown",
   "metadata": {},
   "source": [
    "## Import Data\n",
    "x: Monthly average working hour   \n",
    "y: Satisfactory level of employee"
   ]
  },
  {
   "cell_type": "code",
   "execution_count": 85,
   "metadata": {
    "collapsed": false
   },
   "outputs": [],
   "source": [
    "hr_data = pd.read_csv(\"HR_comma_sep.csv\")\n",
    "#satisfication_level\n",
    "y = hr_data[\"satisfaction_level\"]\n",
    "x = hr_data[\"average_montly_hours\"]\n",
    "data = np.zeros(shape=(len(x), 2))\n",
    "data[:,0] = x\n",
    "data[:,1] = y"
   ]
  },
  {
   "cell_type": "markdown",
   "metadata": {},
   "source": [
    "## Define Functions\n",
    "\n",
    "graph_scatter : randomly sample data points from data sets and plot the line according to m and b on the same plot\n",
    "\n",
    "compute_error : computer the MSE error of the line\n",
    "\n",
    "step_gradient : calculate the gradient of m and b and descent the original values accordingly\n",
    "\n",
    "descenter : run step_gradient for num_iterations to minimize the error"
   ]
  },
  {
   "cell_type": "code",
   "execution_count": 98,
   "metadata": {
    "collapsed": true
   },
   "outputs": [],
   "source": [
    "def graph_scatter(data, b, m, sample_size=100):\n",
    "    \"\"\"Plot a scatter plot and line plot according to the sample data and given line slope and bias\n",
    "    \n",
    "    Args:\n",
    "        data: Input data\n",
    "        b: bias\n",
    "        m: slope\n",
    "        sample_size(optional): size of sample to be drawn to plot\n",
    "\n",
    "    Return:\n",
    "        None\n",
    "    \"\"\"\n",
    "    x = data[:,0]\n",
    "    y = data[:,1]\n",
    "    # randomly select index from the range of elements\n",
    "    idx = np.random.choice(len(x), sample_size)\n",
    "    \n",
    "    # select the index \n",
    "    x_plot = x[idx]\n",
    "    y_plot = y[idx]\n",
    "    \n",
    "    # plot the scatter plot\n",
    "    plt.scatter(x_plot, y_plot, alpha=0.5)\n",
    "    # generate x values for the line y=mx+b\n",
    "    line_x = np.linspace(100,400, 4)\n",
    "    line_y = m*line_x + b\n",
    "    # plot the given line\n",
    "    plt.plot(line_x, line_y)\n",
    "\n",
    "    plt.show()"
   ]
  },
  {
   "cell_type": "code",
   "execution_count": 99,
   "metadata": {
    "collapsed": true
   },
   "outputs": [],
   "source": [
    "def compute_error(b, m, data):\n",
    "    \"\"\"Compute the MSE error given the weight and bias\n",
    "    \n",
    "    Args:\n",
    "        b: bias\n",
    "        m: weight\n",
    "        data: Input data\n",
    "    \n",
    "    Return:\n",
    "        error: MSE error\n",
    "    \"\"\"\n",
    "    x = data[:,0]\n",
    "    y = data[:,1]\n",
    "    # get the predicted value\n",
    "    pred_y = m*x+b\n",
    "    # compute the Sum of Square error\n",
    "    error = np.sum((y-pred_y)**2)\n",
    "    # MSE\n",
    "    error = error / float(len(x))\n",
    "    return error"
   ]
  },
  {
   "cell_type": "code",
   "execution_count": 101,
   "metadata": {
    "collapsed": false
   },
   "outputs": [],
   "source": [
    "def step_gradient(b, m, data, learning_rate):\n",
    "    \"\"\"Compute the gradient of weight and bias for one step and update accordingly\n",
    "    \n",
    "    Args:\n",
    "        b: bias\n",
    "        m: weight\n",
    "        data: Input data\n",
    "        learning_rate: rate at which how fast gradient to descent\n",
    "    \n",
    "    Return:\n",
    "        [b,m]: new bias and weight value after taken a step of gradient descent\n",
    "    \"\"\"\n",
    "    # initialize gradients\n",
    "    m_gradient = 0\n",
    "    b_gradient = 0\n",
    "    \n",
    "    x = data[:,0]\n",
    "    y = data[:,1]\n",
    "    N = float(len(data))\n",
    "    \n",
    "    # compute the predicted value\n",
    "    pred_y = m*x + b\n",
    "    \n",
    "    # compute the gradients\n",
    "    b_gradient = np.sum(-(2/N)*(y - pred_y))\n",
    "    m_gradient = np.sum(-(2/N)* x * (y - pred_y))\n",
    "    \n",
    "    # update to new value\n",
    "    new_b = b - learning_rate*b_gradient\n",
    "    new_m = m - learning_rate*m_gradient\n",
    "    \n",
    "    return [new_b, new_m]"
   ]
  },
  {
   "cell_type": "code",
   "execution_count": 27,
   "metadata": {
    "collapsed": true
   },
   "outputs": [],
   "source": [
    "def descenter(data, starting_b, starting_m, learning_rate, num_iteration):\n",
    "    \"\"\"Run step_gradient num of iteration of times\n",
    "    \n",
    "    Args:\n",
    "        data: Input data\n",
    "        starting_b: initial value of bias\n",
    "        starting_m: initial value of weight\n",
    "        learning_rate: rate at which how fast gradient to descent\n",
    "        num_iteration: number of iteration to run step gradient\n",
    "    \n",
    "    Return:\n",
    "        [b,m]: updated bias and weight value after num_iteration of gradient \n",
    "    \"\"\"\n",
    "    # get the inital values\n",
    "    m = starting_m\n",
    "    b = starting_b\n",
    "    \n",
    "    # loop through num of iteration of step gradient\n",
    "    for i in range(num_iteration):\n",
    "        [b,m]= step_gradient(b,m,data,learning_rate)\n",
    "    return [b,m]"
   ]
  },
  {
   "cell_type": "markdown",
   "metadata": {},
   "source": [
    "### Initilize weight and bias values"
   ]
  },
  {
   "cell_type": "code",
   "execution_count": 86,
   "metadata": {
    "collapsed": false
   },
   "outputs": [
    {
     "name": "stdout",
     "output_type": "stream",
     "text": [
      "Starting gradient descent at b = 0, m = 0, err=0.4373780052\n"
     ]
    }
   ],
   "source": [
    "starting_b = 0\n",
    "starting_m = 0\n",
    "print \"Starting gradient descent at b = {}, m = {}, err={}\".format(starting_b, starting_m, compute_error(starting_b, starting_m,data))"
   ]
  },
  {
   "cell_type": "markdown",
   "metadata": {},
   "source": [
    "### Plot sample data and y = 0"
   ]
  },
  {
   "cell_type": "code",
   "execution_count": 87,
   "metadata": {
    "collapsed": false
   },
   "outputs": [
    {
     "data": {
      "image/png": "[encoded data removed]",
      "text/plain": [
       "<matplotlib.figure.Figure at 0x11442fc90>"
      ]
     },
     "metadata": {},
     "output_type": "display_data"
    }
   ],
   "source": [
    "# plot the current plot\n",
    "graph_scatter(data, starting_b, starting_m)"
   ]
  },
  {
   "cell_type": "markdown",
   "metadata": {},
   "source": [
    "### Run Gradient Descent"
   ]
  },
  {
   "cell_type": "code",
   "execution_count": 88,
   "metadata": {
    "collapsed": false
   },
   "outputs": [
    {
     "name": "stdout",
     "output_type": "stream",
     "text": [
      "[0.0073270640158635244, 0.0028308850018918608]\n"
     ]
    }
   ],
   "source": [
    "learning_rate = 0.00001\n",
    "num_iteration = 10000\n",
    "[b,m] = descenter(data, starting_b, starting_m, learning_rate, num_iteration)\n",
    "print [b,m]"
   ]
  },
  {
   "cell_type": "markdown",
   "metadata": {},
   "source": [
    "### Check Error and plot the new line"
   ]
  },
  {
   "cell_type": "code",
   "execution_count": 89,
   "metadata": {
    "collapsed": false
   },
   "outputs": [
    {
     "name": "stdout",
     "output_type": "stream",
     "text": [
      "Descented at b = 0.00732706401586, m = 0.00283088500189, err=0.0845320879693\n"
     ]
    }
   ],
   "source": [
    "print \"Descented at b = {}, m = {}, err={}\".format(b, m, compute_error(b, m, data))"
   ]
  },
  {
   "cell_type": "code",
   "execution_count": 90,
   "metadata": {
    "collapsed": false
   },
   "outputs": [
    {
     "data": {
      "image/png": "[encoded data removed]",
      "text/plain": [
       "<matplotlib.figure.Figure at 0x1144b3590>"
      ]
     },
     "metadata": {},
     "output_type": "display_data"
    }
   ],
   "source": [
    "graph_scatter(data, b, m)"
   ]
  },
  {
   "cell_type": "markdown",
   "metadata": {},
   "source": [
    "## Notes:\n",
    "The resulting graph is not very intutive to me. Since it's a graph on the relationship between working hour and satisfactory level, I find it hard to believe the correlation is positive. One explanation is that gradient descent stuck in another local minima. To check my intuition, I re-initialize the starting weight and bias to have negative slope"
   ]
  },
  {
   "cell_type": "markdown",
   "metadata": {},
   "source": [
    "### Initilize weight and bias at different points"
   ]
  },
  {
   "cell_type": "code",
   "execution_count": 94,
   "metadata": {
    "collapsed": false,
    "scrolled": true
   },
   "outputs": [
    {
     "data": {
      "image/png": "[encoded data removed]",
      "text/plain": [
       "<matplotlib.figure.Figure at 0x113531110>"
      ]
     },
     "metadata": {},
     "output_type": "display_data"
    }
   ],
   "source": [
    "starting_b = 1\n",
    "starting_m = -0.001\n",
    "graph_scatter(data, starting_b, starting_m)"
   ]
  },
  {
   "cell_type": "markdown",
   "metadata": {},
   "source": [
    "### Run Gradient Descent"
   ]
  },
  {
   "cell_type": "code",
   "execution_count": 95,
   "metadata": {
    "collapsed": false
   },
   "outputs": [
    {
     "name": "stdout",
     "output_type": "stream",
     "text": [
      "[0.99575398329639786, -0.0017997115812232053]\n"
     ]
    }
   ],
   "source": [
    "learning_rate = 0.00001\n",
    "num_iteration = 10000\n",
    "[b,m] = descenter(data, starting_b, starting_m, learning_rate, num_iteration)\n",
    "print [b,m]"
   ]
  },
  {
   "cell_type": "markdown",
   "metadata": {},
   "source": [
    "### Check error and plot the resulted line"
   ]
  },
  {
   "cell_type": "code",
   "execution_count": 96,
   "metadata": {
    "collapsed": false
   },
   "outputs": [
    {
     "name": "stdout",
     "output_type": "stream",
     "text": [
      "Descented at b = 0.995753983296, m = -0.00179971158122, err=0.0694402235026\n"
     ]
    }
   ],
   "source": [
    "print \"Descented at b = {}, m = {}, err={}\".format(b, m, compute_error(b, m, data))"
   ]
  },
  {
   "cell_type": "code",
   "execution_count": 97,
   "metadata": {
    "collapsed": false
   },
   "outputs": [
    {
     "data": {
      "image/png": "[encoded data removed]",
      "text/plain": [
       "<matplotlib.figure.Figure at 0x1140faa90>"
      ]
     },
     "metadata": {},
     "output_type": "display_data"
    }
   ],
   "source": [
    "graph_scatter(data, b, m)"
   ]
  }
 ],
 "metadata": {
  "kernelspec": {
   "display_name": "Python 2",
   "language": "python",
   "name": "python2"
  },
  "language_info": {
   "codemirror_mode": {
    "name": "ipython",
    "version": 2
   },
   "file_extension": ".py",
   "mimetype": "text/x-python",
   "name": "python",
   "nbconvert_exporter": "python",
   "pygments_lexer": "ipython2",
   "version": "2.7.11"
  }
 },
 "nbformat": 4,
 "nbformat_minor": 0
}
